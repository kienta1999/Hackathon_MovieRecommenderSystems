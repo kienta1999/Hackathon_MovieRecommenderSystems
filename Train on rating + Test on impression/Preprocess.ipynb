{
 "cells": [
  {
   "cell_type": "code",
   "execution_count": 1,
   "metadata": {},
   "outputs": [],
   "source": [
    "import pandas as pd"
   ]
  },
  {
   "cell_type": "code",
   "execution_count": 4,
   "metadata": {},
   "outputs": [],
   "source": [
    "impressions = pd.read_csv('impressions-train.csv')\n",
    "impressions_dropped_dup = impressions.drop_duplicates(subset=['reviewerid', 'movie-code'], keep='last').copy()\n",
    "impressions_dropped_dup.sort_values(by = ['reviewerid', 'movie-code'], inplace = True)\n",
    "impressions_dropped_dup.reset_index(inplace = True, drop = True)\n",
    "impressions_dropped_dup['rating'] += 1\n",
    "impressions_dropped_dup.to_csv('impressions-train-processed.csv', index = False)"
   ]
  },
  {
   "cell_type": "code",
   "execution_count": 5,
   "metadata": {},
   "outputs": [],
   "source": [
    "final_ratings = pd.read_csv('ratings-final.csv')\n",
    "pd.set_option('display.max_rows', 111)\n",
    "final_ratings_dropped_dup = final_ratings.drop_duplicates(subset=['reviewerid', 'movie-code'], keep='last').copy()\n",
    "final_ratings_dropped_dup.sort_values(by = ['reviewerid', 'movie-code'], inplace = True)\n",
    "final_ratings_dropped_dup.reset_index(inplace = True, drop = True)\n",
    "final_ratings_dropped_dup['rating'] += 1\n",
    "final_ratings_dropped_dup.to_csv('ratings-final-processed.csv', index = False)"
   ]
  },
  {
   "cell_type": "code",
   "execution_count": null,
   "metadata": {},
   "outputs": [],
   "source": []
  }
 ],
 "metadata": {
  "kernelspec": {
   "display_name": "Python 3",
   "language": "python",
   "name": "python3"
  },
  "language_info": {
   "codemirror_mode": {
    "name": "ipython",
    "version": 3
   },
   "file_extension": ".py",
   "mimetype": "text/x-python",
   "name": "python",
   "nbconvert_exporter": "python",
   "pygments_lexer": "ipython3",
   "version": "3.7.6"
  }
 },
 "nbformat": 4,
 "nbformat_minor": 4
}
